{
  "nbformat": 4,
  "nbformat_minor": 0,
  "metadata": {
    "colab": {
      "name": "Pytorch_CNN_MNIST.ipynb",
      "provenance": [],
      "collapsed_sections": [],
      "authorship_tag": "ABX9TyOKmCYeyfz101bXkhggS3G3",
      "include_colab_link": true
    },
    "kernelspec": {
      "name": "python3",
      "display_name": "Python 3"
    },
    "language_info": {
      "name": "python"
    },
    "accelerator": "GPU"
  },
  "cells": [
    {
      "cell_type": "markdown",
      "metadata": {
        "id": "view-in-github",
        "colab_type": "text"
      },
      "source": [
        "<a href=\"https://colab.research.google.com/github/chang-heekim/MNIST_CNN/blob/main/Pytorch_CNN_MNIST.ipynb\" target=\"_parent\"><img src=\"https://colab.research.google.com/assets/colab-badge.svg\" alt=\"Open In Colab\"/></a>"
      ]
    },
    {
      "cell_type": "markdown",
      "source": [
        "# Import necessary Library"
      ],
      "metadata": {
        "id": "O1EYj8q4q-dy"
      }
    },
    {
      "cell_type": "code",
      "source": [
        "import numpy as np\n",
        "import matplotlib.pyplot as plt\n",
        "plt.style.use('seaborn')\n",
        "\n",
        "import torch\n",
        "import torch.nn.functional as F\n",
        "from torch import nn, optim\n",
        "from torchvision.datasets import MNIST\n",
        "from torchvision import transforms\n",
        "from torchsummary import summary"
      ],
      "metadata": {
        "id": "eIgFS1pzQrWv"
      },
      "execution_count": 14,
      "outputs": []
    },
    {
      "cell_type": "markdown",
      "source": [
        "# Load Dataset"
      ],
      "metadata": {
        "id": "jtjNmkDyrRwy"
      }
    },
    {
      "cell_type": "code",
      "source": [
        "data_root = os.path.join(os.getcwd(), 'data')\n",
        "\n",
        "transform = transforms.Compose([\n",
        "    transforms.ToTensor()\n",
        "])\n",
        "\n",
        "train_datasets = MNIST(root=data_root, download=True, train=True, transform=transform)\n",
        "val_datasets = MNIST(root=data_root, download=True, train=False, transform=transform)\n",
        "\n",
        "train_loader = torch.utils.data.DataLoader(train_datasets, batch_size=100, shuffle=True, num_workers=2)\n",
        "val_loader = torch.utils.data.DataLoader(val_datasets, batch_size=100, shuffle=False, num_workers=2)"
      ],
      "metadata": {
        "id": "dS9Sg7XeRt1f"
      },
      "execution_count": 51,
      "outputs": []
    },
    {
      "cell_type": "code",
      "source": [
        "for sample_batch in train_loader:\n",
        "    print(sample_batch)\n",
        "    print(sample_batch[0].shape)\n",
        "    break"
      ],
      "metadata": {
        "colab": {
          "base_uri": "https://localhost:8080/"
        },
        "id": "Sy5ZdPulUQba",
        "outputId": "cadc46e9-0a27-43a6-998f-8bde3db66ae4"
      },
      "execution_count": 52,
      "outputs": [
        {
          "output_type": "stream",
          "name": "stderr",
          "text": [
            "Exception ignored in: <function _MultiProcessingDataLoaderIter.__del__ at 0x7fac82f6b710>\n",
            "Exception ignored in: <function _MultiProcessingDataLoaderIter.__del__ at 0x7fac82f6b710>\n",
            "Traceback (most recent call last):\n",
            "  File \"/usr/local/lib/python3.7/dist-packages/torch/utils/data/dataloader.py\", line 1328, in __del__\n",
            "    self._shutdown_workers()\n",
            "  File \"/usr/local/lib/python3.7/dist-packages/torch/utils/data/dataloader.py\", line 1320, in _shutdown_workers\n",
            "    if w.is_alive():\n",
            "  File \"/usr/lib/python3.7/multiprocessing/process.py\", line 151, in is_alive\n",
            "Traceback (most recent call last):\n",
            "  File \"/usr/local/lib/python3.7/dist-packages/torch/utils/data/dataloader.py\", line 1328, in __del__\n",
            "    assert self._parent_pid == os.getpid(), 'can only test a child process'\n",
            "    self._shutdown_workers()\n",
            "AssertionError: can only test a child process\n",
            "  File \"/usr/local/lib/python3.7/dist-packages/torch/utils/data/dataloader.py\", line 1320, in _shutdown_workers\n",
            "    if w.is_alive():\n",
            "  File \"/usr/lib/python3.7/multiprocessing/process.py\", line 151, in is_alive\n",
            "    assert self._parent_pid == os.getpid(), 'can only test a child process'\n",
            "AssertionError: can only test a child process\n"
          ]
        },
        {
          "output_type": "stream",
          "name": "stdout",
          "text": [
            "[tensor([[[[0., 0., 0.,  ..., 0., 0., 0.],\n",
            "          [0., 0., 0.,  ..., 0., 0., 0.],\n",
            "          [0., 0., 0.,  ..., 0., 0., 0.],\n",
            "          ...,\n",
            "          [0., 0., 0.,  ..., 0., 0., 0.],\n",
            "          [0., 0., 0.,  ..., 0., 0., 0.],\n",
            "          [0., 0., 0.,  ..., 0., 0., 0.]]],\n",
            "\n",
            "\n",
            "        [[[0., 0., 0.,  ..., 0., 0., 0.],\n",
            "          [0., 0., 0.,  ..., 0., 0., 0.],\n",
            "          [0., 0., 0.,  ..., 0., 0., 0.],\n",
            "          ...,\n",
            "          [0., 0., 0.,  ..., 0., 0., 0.],\n",
            "          [0., 0., 0.,  ..., 0., 0., 0.],\n",
            "          [0., 0., 0.,  ..., 0., 0., 0.]]],\n",
            "\n",
            "\n",
            "        [[[0., 0., 0.,  ..., 0., 0., 0.],\n",
            "          [0., 0., 0.,  ..., 0., 0., 0.],\n",
            "          [0., 0., 0.,  ..., 0., 0., 0.],\n",
            "          ...,\n",
            "          [0., 0., 0.,  ..., 0., 0., 0.],\n",
            "          [0., 0., 0.,  ..., 0., 0., 0.],\n",
            "          [0., 0., 0.,  ..., 0., 0., 0.]]],\n",
            "\n",
            "\n",
            "        ...,\n",
            "\n",
            "\n",
            "        [[[0., 0., 0.,  ..., 0., 0., 0.],\n",
            "          [0., 0., 0.,  ..., 0., 0., 0.],\n",
            "          [0., 0., 0.,  ..., 0., 0., 0.],\n",
            "          ...,\n",
            "          [0., 0., 0.,  ..., 0., 0., 0.],\n",
            "          [0., 0., 0.,  ..., 0., 0., 0.],\n",
            "          [0., 0., 0.,  ..., 0., 0., 0.]]],\n",
            "\n",
            "\n",
            "        [[[0., 0., 0.,  ..., 0., 0., 0.],\n",
            "          [0., 0., 0.,  ..., 0., 0., 0.],\n",
            "          [0., 0., 0.,  ..., 0., 0., 0.],\n",
            "          ...,\n",
            "          [0., 0., 0.,  ..., 0., 0., 0.],\n",
            "          [0., 0., 0.,  ..., 0., 0., 0.],\n",
            "          [0., 0., 0.,  ..., 0., 0., 0.]]],\n",
            "\n",
            "\n",
            "        [[[0., 0., 0.,  ..., 0., 0., 0.],\n",
            "          [0., 0., 0.,  ..., 0., 0., 0.],\n",
            "          [0., 0., 0.,  ..., 0., 0., 0.],\n",
            "          ...,\n",
            "          [0., 0., 0.,  ..., 0., 0., 0.],\n",
            "          [0., 0., 0.,  ..., 0., 0., 0.],\n",
            "          [0., 0., 0.,  ..., 0., 0., 0.]]]]), tensor([7, 9, 2, 9, 3, 6, 5, 1, 5, 7, 3, 7, 2, 1, 4, 4, 8, 7, 0, 8, 8, 3, 0, 1,\n",
            "        9, 3, 8, 3, 3, 0, 2, 6, 5, 2, 4, 4, 3, 9, 9, 3, 0, 4, 3, 5, 8, 5, 8, 5,\n",
            "        3, 3, 4, 5, 2, 7, 7, 0, 3, 2, 3, 4, 7, 1, 0, 1, 6, 3, 5, 1, 0, 6, 3, 6,\n",
            "        7, 4, 9, 7, 5, 3, 2, 7, 8, 7, 5, 7, 4, 0, 2, 5, 0, 7, 6, 0, 9, 7, 7, 1,\n",
            "        9, 9, 2, 5])]\n",
            "torch.Size([100, 1, 28, 28])\n"
          ]
        }
      ]
    },
    {
      "cell_type": "code",
      "source": [
        "sample = next(iter(train_loader))\n",
        "image, label = sample[0][0], sample[1][0]\n",
        "\n",
        "plt.imshow(image.reshape(28, 28), 'gray')\n",
        "plt.title(label)\n",
        "plt.show()"
      ],
      "metadata": {
        "colab": {
          "base_uri": "https://localhost:8080/",
          "height": 362
        },
        "id": "uP0Ix6KaqOzu",
        "outputId": "165bd03d-2299-4c44-f8a4-aba37d307322"
      },
      "execution_count": 82,
      "outputs": [
        {
          "output_type": "display_data",
          "data": {
            "image/png": "[encoded data removed]",
            "text/plain": [
              "<Figure size 576x396 with 1 Axes>"
            ]
          },
          "metadata": {}
        }
      ]
    },
    {
      "cell_type": "markdown",
      "source": [
        "# Define CNN"
      ],
      "metadata": {
        "id": "12p4aWlIrWoW"
      }
    },
    {
      "cell_type": "code",
      "source": [
        "class CNN(nn.Module):\n",
        "    def __init__(self):\n",
        "        super().__init__()\n",
        "        self.conv1 = nn.Sequential(\n",
        "            nn.Conv2d(1, 32, 3, 1, 1),     # B x 32 x 28 x 28             \n",
        "            nn.ReLU(),\n",
        "            nn.MaxPool2d(2, 2)             # B x 32 x 14 x 14\n",
        "        )\n",
        "        self.conv2 = nn.Sequential(\n",
        "            nn.Conv2d(32, 64, 3, 1, 1),    # B x 64 x 14 x 14 \n",
        "            nn.ReLU(),\n",
        "            nn.MaxPool2d(2, 2)             # B x 64 x 7 x 7\n",
        "        )\n",
        "        self.fc1 = nn.Linear(64*7*7, 128)\n",
        "        self.fc2 = nn.Linear(128, 10)\n",
        "\n",
        "    def forward(self, input):\n",
        "        x = self.conv1(input)\n",
        "        x = self.conv2(x)\n",
        "        x = x.view(x.size(0), -1)\n",
        "\n",
        "        x = F.relu(self.fc1(x))\n",
        "        out = self.fc2(x)\n",
        "        return out"
      ],
      "metadata": {
        "id": "ZRL1KHgkUgqH"
      },
      "execution_count": 54,
      "outputs": []
    },
    {
      "cell_type": "markdown",
      "source": [
        "# Define hyperparameters"
      ],
      "metadata": {
        "id": "E2_RY5fJrh3s"
      }
    },
    {
      "cell_type": "code",
      "source": [
        "lr = 1e-3\n",
        "epochs = 15\n",
        "log_interval = 100"
      ],
      "metadata": {
        "id": "AgtWa-XqZlXV"
      },
      "execution_count": 70,
      "outputs": []
    },
    {
      "cell_type": "markdown",
      "source": [
        "# Define model & optimizer & loss function"
      ],
      "metadata": {
        "id": "uBYL7E5grjX5"
      }
    },
    {
      "cell_type": "code",
      "source": [
        "device = 'cuda' if torch.cuda.is_available() else 'cpu'\n",
        "print(device)\n",
        "\n",
        "model = CNN().to(device)\n",
        "summary(model, input_size=(1, 28, 28))\n",
        "\n",
        "loss_function = nn.CrossEntropyLoss()\n",
        "optimizer = optim.SGD(model.parameters(), lr=lr)"
      ],
      "metadata": {
        "colab": {
          "base_uri": "https://localhost:8080/"
        },
        "id": "nQQ7OyobVnnX",
        "outputId": "397aa212-3946-478e-e56b-0784ab72fbdd"
      },
      "execution_count": 71,
      "outputs": [
        {
          "output_type": "stream",
          "name": "stdout",
          "text": [
            "cuda\n",
            "----------------------------------------------------------------\n",
            "        Layer (type)               Output Shape         Param #\n",
            "================================================================\n",
            "            Conv2d-1           [-1, 32, 28, 28]             320\n",
            "              ReLU-2           [-1, 32, 28, 28]               0\n",
            "         MaxPool2d-3           [-1, 32, 14, 14]               0\n",
            "            Conv2d-4           [-1, 64, 14, 14]          18,496\n",
            "              ReLU-5           [-1, 64, 14, 14]               0\n",
            "         MaxPool2d-6             [-1, 64, 7, 7]               0\n",
            "            Linear-7                  [-1, 128]         401,536\n",
            "            Linear-8                   [-1, 10]           1,290\n",
            "================================================================\n",
            "Total params: 421,642\n",
            "Trainable params: 421,642\n",
            "Non-trainable params: 0\n",
            "----------------------------------------------------------------\n",
            "Input size (MB): 0.00\n",
            "Forward/backward pass size (MB): 0.65\n",
            "Params size (MB): 1.61\n",
            "Estimated Total Size (MB): 2.26\n",
            "----------------------------------------------------------------\n"
          ]
        }
      ]
    },
    {
      "cell_type": "markdown",
      "source": [
        "# Training & Validation"
      ],
      "metadata": {
        "id": "Km1hIZqFrpsf"
      }
    },
    {
      "cell_type": "code",
      "source": [
        "train_result = []\n",
        "val_result = []\n",
        "\n",
        "for epoch in range(1, epochs + 1):\n",
        "    # train mode\n",
        "    model.train()\n",
        "\n",
        "    for batch_idx, (images, labels) in enumerate(train_loader):\n",
        "        current_loss = 0\n",
        "        current_correct = 0\n",
        "        images, labels = images.to(device), labels.to(device)\n",
        "\n",
        "        # Forward\n",
        "        outputs = model(images)\n",
        "        _, preds = torch.max(outputs, 1)\n",
        "\n",
        "        loss = loss_function(outputs, labels)\n",
        "\n",
        "        # Back propagation\n",
        "        optimizer.zero_grad()\n",
        "        loss.backward()\n",
        "        optimizer.step()\n",
        "\n",
        "        current_loss += loss.item() \n",
        "        current_correct += torch.sum(preds == labels.data)\n",
        "\n",
        "        if batch_idx % log_interval == 0:\n",
        "            train_loss = current_loss / log_interval\n",
        "            train_acc = current_correct / log_interval\n",
        "\n",
        "            print(\"Train Epoch: {} [{}/{} ({:.0f}%)]\\tTrain Loss: {:.6f}, Train Acc: {:.2f}\".format(\n",
        "                epoch, \n",
        "                batch_idx * len(images), \n",
        "                len(train_loader) * 100, \n",
        "                100 * batch_idx / len(train_loader), \n",
        "                train_loss, \n",
        "                train_acc))\n",
        "            \n",
        "    train_result.append((current_loss / len(images), current_correct / len(images)))\n",
        "\n",
        "    # val mode\n",
        "    with torch.no_grad():\n",
        "        model.eval()\n",
        "        val_loss = 0\n",
        "        val_correct = 0\n",
        "        for idx, (val_images, val_labels) in enumerate(val_loader):\n",
        "\n",
        "            val_images, val_labels = val_images.to(device), val_labels.to(device)\n",
        "\n",
        "            val_outputs = model(val_images)\n",
        "            _, val_preds = torch.max(val_outputs, 1)\n",
        "\n",
        "            val_loss += loss_function(val_outputs, val_labels) / val_outputs.shape[0]\n",
        "            val_correct += torch.sum(val_preds == val_labels.data) / val_outputs.shape[0]\n",
        "\n",
        "    val_epoch_loss = val_loss / len(val_loader)\n",
        "    val_epoch_acc = val_correct / len(val_loader)\n",
        "\n",
        "    val_result.append((val_epoch_loss, val_epoch_acc))\n",
        "    print(\"Validation set: Val Loss: {:.6f}, Val Acc: {:.2f}\".format(val_epoch_loss, val_epoch_acc))"
      ],
      "metadata": {
        "colab": {
          "base_uri": "https://localhost:8080/"
        },
        "id": "cz1--P_aXTJB",
        "outputId": "13bc864b-5502-490d-e43a-7e4ad363878b"
      },
      "execution_count": 72,
      "outputs": [
        {
          "output_type": "stream",
          "name": "stdout",
          "text": [
            "Train Epoch: 1 [0/60000 (0%)]\tTrain Loss: 0.022960, Train Acc: 0.16\n",
            "Train Epoch: 1 [10000/60000 (17%)]\tTrain Loss: 0.022969, Train Acc: 0.21\n",
            "Train Epoch: 1 [20000/60000 (33%)]\tTrain Loss: 0.022947, Train Acc: 0.16\n",
            "Train Epoch: 1 [30000/60000 (50%)]\tTrain Loss: 0.022851, Train Acc: 0.21\n",
            "Train Epoch: 1 [40000/60000 (67%)]\tTrain Loss: 0.022774, Train Acc: 0.22\n",
            "Train Epoch: 1 [50000/60000 (83%)]\tTrain Loss: 0.022660, Train Acc: 0.34\n",
            "Validation set: Val Loss: 0.022620, Val Acc: 0.35\n",
            "Train Epoch: 2 [0/60000 (0%)]\tTrain Loss: 0.022633, Train Acc: 0.32\n",
            "Train Epoch: 2 [10000/60000 (17%)]\tTrain Loss: 0.022586, Train Acc: 0.35\n",
            "Train Epoch: 2 [20000/60000 (33%)]\tTrain Loss: 0.022467, Train Acc: 0.38\n",
            "Train Epoch: 2 [30000/60000 (50%)]\tTrain Loss: 0.022393, Train Acc: 0.36\n",
            "Train Epoch: 2 [40000/60000 (67%)]\tTrain Loss: 0.022156, Train Acc: 0.57\n",
            "Train Epoch: 2 [50000/60000 (83%)]\tTrain Loss: 0.022099, Train Acc: 0.57\n",
            "Validation set: Val Loss: 0.021911, Val Acc: 0.51\n",
            "Train Epoch: 3 [0/60000 (0%)]\tTrain Loss: 0.022074, Train Acc: 0.37\n",
            "Train Epoch: 3 [10000/60000 (17%)]\tTrain Loss: 0.021767, Train Acc: 0.44\n",
            "Train Epoch: 3 [20000/60000 (33%)]\tTrain Loss: 0.021516, Train Acc: 0.60\n",
            "Train Epoch: 3 [30000/60000 (50%)]\tTrain Loss: 0.021440, Train Acc: 0.46\n",
            "Train Epoch: 3 [40000/60000 (67%)]\tTrain Loss: 0.020814, Train Acc: 0.63\n",
            "Train Epoch: 3 [50000/60000 (83%)]\tTrain Loss: 0.020892, Train Acc: 0.60\n",
            "Validation set: Val Loss: 0.020139, Val Acc: 0.63\n",
            "Train Epoch: 4 [0/60000 (0%)]\tTrain Loss: 0.020008, Train Acc: 0.69\n",
            "Train Epoch: 4 [10000/60000 (17%)]\tTrain Loss: 0.020193, Train Acc: 0.55\n",
            "Train Epoch: 4 [20000/60000 (33%)]\tTrain Loss: 0.019065, Train Acc: 0.59\n",
            "Train Epoch: 4 [30000/60000 (50%)]\tTrain Loss: 0.017930, Train Acc: 0.65\n",
            "Train Epoch: 4 [40000/60000 (67%)]\tTrain Loss: 0.016916, Train Acc: 0.65\n",
            "Train Epoch: 4 [50000/60000 (83%)]\tTrain Loss: 0.015703, Train Acc: 0.74\n",
            "Validation set: Val Loss: 0.015440, Val Acc: 0.72\n",
            "Train Epoch: 5 [0/60000 (0%)]\tTrain Loss: 0.015891, Train Acc: 0.61\n",
            "Train Epoch: 5 [10000/60000 (17%)]\tTrain Loss: 0.014035, Train Acc: 0.76\n",
            "Train Epoch: 5 [20000/60000 (33%)]\tTrain Loss: 0.013657, Train Acc: 0.73\n",
            "Train Epoch: 5 [30000/60000 (50%)]\tTrain Loss: 0.011985, Train Acc: 0.71\n",
            "Train Epoch: 5 [40000/60000 (67%)]\tTrain Loss: 0.011223, Train Acc: 0.76\n",
            "Train Epoch: 5 [50000/60000 (83%)]\tTrain Loss: 0.009526, Train Acc: 0.79\n",
            "Validation set: Val Loss: 0.009282, Val Acc: 0.79\n",
            "Train Epoch: 6 [0/60000 (0%)]\tTrain Loss: 0.009281, Train Acc: 0.78\n",
            "Train Epoch: 6 [10000/60000 (17%)]\tTrain Loss: 0.009192, Train Acc: 0.79\n",
            "Train Epoch: 6 [20000/60000 (33%)]\tTrain Loss: 0.007275, Train Acc: 0.88\n",
            "Train Epoch: 6 [30000/60000 (50%)]\tTrain Loss: 0.008027, Train Acc: 0.76\n",
            "Train Epoch: 6 [40000/60000 (67%)]\tTrain Loss: 0.007083, Train Acc: 0.86\n",
            "Train Epoch: 6 [50000/60000 (83%)]\tTrain Loss: 0.007196, Train Acc: 0.76\n",
            "Validation set: Val Loss: 0.006420, Val Acc: 0.84\n",
            "Train Epoch: 7 [0/60000 (0%)]\tTrain Loss: 0.006551, Train Acc: 0.83\n",
            "Train Epoch: 7 [10000/60000 (17%)]\tTrain Loss: 0.006892, Train Acc: 0.84\n",
            "Train Epoch: 7 [20000/60000 (33%)]\tTrain Loss: 0.006658, Train Acc: 0.86\n",
            "Train Epoch: 7 [30000/60000 (50%)]\tTrain Loss: 0.005155, Train Acc: 0.85\n",
            "Train Epoch: 7 [40000/60000 (67%)]\tTrain Loss: 0.005920, Train Acc: 0.84\n",
            "Train Epoch: 7 [50000/60000 (83%)]\tTrain Loss: 0.005521, Train Acc: 0.87\n",
            "Validation set: Val Loss: 0.005156, Val Acc: 0.86\n",
            "Train Epoch: 8 [0/60000 (0%)]\tTrain Loss: 0.005782, Train Acc: 0.86\n",
            "Train Epoch: 8 [10000/60000 (17%)]\tTrain Loss: 0.004806, Train Acc: 0.83\n",
            "Train Epoch: 8 [20000/60000 (33%)]\tTrain Loss: 0.004920, Train Acc: 0.87\n",
            "Train Epoch: 8 [30000/60000 (50%)]\tTrain Loss: 0.004404, Train Acc: 0.89\n",
            "Train Epoch: 8 [40000/60000 (67%)]\tTrain Loss: 0.005170, Train Acc: 0.89\n",
            "Train Epoch: 8 [50000/60000 (83%)]\tTrain Loss: 0.004287, Train Acc: 0.86\n",
            "Validation set: Val Loss: 0.004443, Val Acc: 0.88\n",
            "Train Epoch: 9 [0/60000 (0%)]\tTrain Loss: 0.004116, Train Acc: 0.89\n",
            "Train Epoch: 9 [10000/60000 (17%)]\tTrain Loss: 0.003730, Train Acc: 0.90\n",
            "Train Epoch: 9 [20000/60000 (33%)]\tTrain Loss: 0.004470, Train Acc: 0.88\n",
            "Train Epoch: 9 [30000/60000 (50%)]\tTrain Loss: 0.004107, Train Acc: 0.88\n",
            "Train Epoch: 9 [40000/60000 (67%)]\tTrain Loss: 0.004037, Train Acc: 0.88\n",
            "Train Epoch: 9 [50000/60000 (83%)]\tTrain Loss: 0.006163, Train Acc: 0.80\n",
            "Validation set: Val Loss: 0.004022, Val Acc: 0.89\n",
            "Train Epoch: 10 [0/60000 (0%)]\tTrain Loss: 0.004820, Train Acc: 0.87\n",
            "Train Epoch: 10 [10000/60000 (17%)]\tTrain Loss: 0.003912, Train Acc: 0.90\n",
            "Train Epoch: 10 [20000/60000 (33%)]\tTrain Loss: 0.004498, Train Acc: 0.90\n",
            "Train Epoch: 10 [30000/60000 (50%)]\tTrain Loss: 0.003205, Train Acc: 0.90\n",
            "Train Epoch: 10 [40000/60000 (67%)]\tTrain Loss: 0.003797, Train Acc: 0.90\n",
            "Train Epoch: 10 [50000/60000 (83%)]\tTrain Loss: 0.004003, Train Acc: 0.89\n",
            "Validation set: Val Loss: 0.003727, Val Acc: 0.89\n",
            "Train Epoch: 11 [0/60000 (0%)]\tTrain Loss: 0.003357, Train Acc: 0.89\n",
            "Train Epoch: 11 [10000/60000 (17%)]\tTrain Loss: 0.003297, Train Acc: 0.91\n",
            "Train Epoch: 11 [20000/60000 (33%)]\tTrain Loss: 0.003076, Train Acc: 0.90\n",
            "Train Epoch: 11 [30000/60000 (50%)]\tTrain Loss: 0.004609, Train Acc: 0.83\n",
            "Train Epoch: 11 [40000/60000 (67%)]\tTrain Loss: 0.002533, Train Acc: 0.93\n",
            "Train Epoch: 11 [50000/60000 (83%)]\tTrain Loss: 0.004421, Train Acc: 0.91\n",
            "Validation set: Val Loss: 0.003524, Val Acc: 0.90\n",
            "Train Epoch: 12 [0/60000 (0%)]\tTrain Loss: 0.003175, Train Acc: 0.90\n",
            "Train Epoch: 12 [10000/60000 (17%)]\tTrain Loss: 0.003641, Train Acc: 0.88\n",
            "Train Epoch: 12 [20000/60000 (33%)]\tTrain Loss: 0.003266, Train Acc: 0.90\n",
            "Train Epoch: 12 [30000/60000 (50%)]\tTrain Loss: 0.002801, Train Acc: 0.93\n",
            "Train Epoch: 12 [40000/60000 (67%)]\tTrain Loss: 0.004056, Train Acc: 0.90\n",
            "Train Epoch: 12 [50000/60000 (83%)]\tTrain Loss: 0.004546, Train Acc: 0.93\n",
            "Validation set: Val Loss: 0.003363, Val Acc: 0.90\n",
            "Train Epoch: 13 [0/60000 (0%)]\tTrain Loss: 0.003891, Train Acc: 0.91\n",
            "Train Epoch: 13 [10000/60000 (17%)]\tTrain Loss: 0.002981, Train Acc: 0.89\n",
            "Train Epoch: 13 [20000/60000 (33%)]\tTrain Loss: 0.003149, Train Acc: 0.89\n",
            "Train Epoch: 13 [30000/60000 (50%)]\tTrain Loss: 0.003635, Train Acc: 0.87\n",
            "Train Epoch: 13 [40000/60000 (67%)]\tTrain Loss: 0.002871, Train Acc: 0.90\n",
            "Train Epoch: 13 [50000/60000 (83%)]\tTrain Loss: 0.003809, Train Acc: 0.91\n",
            "Validation set: Val Loss: 0.003224, Val Acc: 0.91\n",
            "Train Epoch: 14 [0/60000 (0%)]\tTrain Loss: 0.004011, Train Acc: 0.85\n",
            "Train Epoch: 14 [10000/60000 (17%)]\tTrain Loss: 0.002925, Train Acc: 0.93\n",
            "Train Epoch: 14 [20000/60000 (33%)]\tTrain Loss: 0.003046, Train Acc: 0.91\n",
            "Train Epoch: 14 [30000/60000 (50%)]\tTrain Loss: 0.003401, Train Acc: 0.89\n",
            "Train Epoch: 14 [40000/60000 (67%)]\tTrain Loss: 0.005659, Train Acc: 0.84\n",
            "Train Epoch: 14 [50000/60000 (83%)]\tTrain Loss: 0.003188, Train Acc: 0.92\n",
            "Validation set: Val Loss: 0.003101, Val Acc: 0.91\n",
            "Train Epoch: 15 [0/60000 (0%)]\tTrain Loss: 0.002568, Train Acc: 0.96\n",
            "Train Epoch: 15 [10000/60000 (17%)]\tTrain Loss: 0.004258, Train Acc: 0.86\n",
            "Train Epoch: 15 [20000/60000 (33%)]\tTrain Loss: 0.003696, Train Acc: 0.88\n",
            "Train Epoch: 15 [30000/60000 (50%)]\tTrain Loss: 0.002207, Train Acc: 0.93\n",
            "Train Epoch: 15 [40000/60000 (67%)]\tTrain Loss: 0.003637, Train Acc: 0.88\n",
            "Train Epoch: 15 [50000/60000 (83%)]\tTrain Loss: 0.003999, Train Acc: 0.85\n",
            "Validation set: Val Loss: 0.003023, Val Acc: 0.91\n"
          ]
        }
      ]
    },
    {
      "cell_type": "markdown",
      "source": [
        "# Visualization Loss & Accuracy"
      ],
      "metadata": {
        "id": "ZuSRsDg6ryXi"
      }
    },
    {
      "cell_type": "code",
      "source": [
        "plt.plot([i for i in range(1, epochs + 1)], [i[0] for i in train_result])\n",
        "plt.plot([i for i in range(1, epochs + 1)], [i[0] for i in val_result])\n",
        "plt.xlabel(\"Epoch\")\n",
        "plt.ylabel(\"Loss\")\n",
        "plt.legend([\"train\", \"test\"])\n",
        "plt.show()"
      ],
      "metadata": {
        "colab": {
          "base_uri": "https://localhost:8080/",
          "height": 361
        },
        "id": "C-PZVmi4gfdb",
        "outputId": "5829b269-e635-4d59-8109-6cfc11b5e383"
      },
      "execution_count": 74,
      "outputs": [
        {
          "output_type": "display_data",
          "data": {
            "image/png": "[encoded data removed]",
            "text/plain": [
              "<Figure size 576x396 with 1 Axes>"
            ]
          },
          "metadata": {}
        }
      ]
    },
    {
      "cell_type": "code",
      "source": [
        "plt.plot([i for i in range(1, epochs + 1)], [i[1] for i in train_result])\n",
        "plt.plot([i for i in range(1, epochs + 1)], [i[1] for i in val_result])\n",
        "plt.xlabel(\"Epoch\")\n",
        "plt.ylabel(\"Accuracy\")\n",
        "plt.legend([\"train\", \"test\"])\n",
        "plt.show()"
      ],
      "metadata": {
        "colab": {
          "base_uri": "https://localhost:8080/",
          "height": 361
        },
        "id": "jJZw_pePkZ1l",
        "outputId": "c2aca7b1-b79b-49e8-8b58-af7a6e57b0b2"
      },
      "execution_count": 75,
      "outputs": [
        {
          "output_type": "display_data",
          "data": {
            "image/png": "[encoded data removed]",
            "text/plain": [
              "<Figure size 576x396 with 1 Axes>"
            ]
          },
          "metadata": {}
        }
      ]
    }
  ]
}