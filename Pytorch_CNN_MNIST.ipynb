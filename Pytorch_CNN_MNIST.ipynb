{
  "nbformat": 4,
  "nbformat_minor": 0,
  "metadata": {
    "colab": {
      "name": "Pytorch_CNN_MNIST.ipynb",
      "provenance": [],
      "collapsed_sections": [],
      "authorship_tag": "ABX9TyMwlooazfuAVHRGm+TTmCdL",
      "include_colab_link": true
    },
    "kernelspec": {
      "name": "python3",
      "display_name": "Python 3"
    },
    "language_info": {
      "name": "python"
    },
    "accelerator": "GPU"
  },
  "cells": [
    {
      "cell_type": "markdown",
      "metadata": {
        "id": "view-in-github",
        "colab_type": "text"
      },
      "source": [
        "<a href=\"https://colab.research.google.com/github/chang-heekim/MNIST_CNN/blob/main/Pytorch_CNN_MNIST.ipynb\" target=\"_parent\"><img src=\"https://colab.research.google.com/assets/colab-badge.svg\" alt=\"Open In Colab\"/></a>"
      ]
    },
    {
      "cell_type": "markdown",
      "source": [
        "# Import necessary Library"
      ],
      "metadata": {
        "id": "O1EYj8q4q-dy"
      }
    },
    {
      "cell_type": "code",
      "source": [
        "import numpy as np\n",
        "import matplotlib.pyplot as plt\n",
        "import os\n",
        "plt.style.use('seaborn')\n",
        "\n",
        "import torch\n",
        "import torch.nn.functional as F\n",
        "from torch import nn, optim\n",
        "from torchvision.datasets import MNIST\n",
        "from torchvision import transforms\n",
        "from torchsummary import summary"
      ],
      "metadata": {
        "id": "eIgFS1pzQrWv"
      },
      "execution_count": 1,
      "outputs": []
    },
    {
      "cell_type": "markdown",
      "source": [
        "# Load Dataset"
      ],
      "metadata": {
        "id": "jtjNmkDyrRwy"
      }
    },
    {
      "cell_type": "code",
      "source": [
        "data_root = os.path.join(os.getcwd(), 'data')\n",
        "\n",
        "transform = transforms.Compose([\n",
        "    transforms.ToTensor()\n",
        "])\n",
        "\n",
        "train_datasets = MNIST(root=data_root, download=True, train=True, transform=transform)\n",
        "val_datasets = MNIST(root=data_root, download=True, train=False, transform=transform)\n",
        "\n",
        "train_loader = torch.utils.data.DataLoader(train_datasets, batch_size=100, shuffle=True, num_workers=2)\n",
        "val_loader = torch.utils.data.DataLoader(val_datasets, batch_size=100, shuffle=False, num_workers=2)"
      ],
      "metadata": {
        "id": "dS9Sg7XeRt1f"
      },
      "execution_count": 2,
      "outputs": []
    },
    {
      "cell_type": "code",
      "source": [
        "for sample_batch in train_loader:\n",
        "    print(sample_batch)\n",
        "    print(sample_batch[0].shape)\n",
        "    break"
      ],
      "metadata": {
        "colab": {
          "base_uri": "https://localhost:8080/"
        },
        "id": "Sy5ZdPulUQba",
        "outputId": "e4120dce-5b8a-4cfe-da97-27230a84f88e"
      },
      "execution_count": 3,
      "outputs": [
        {
          "output_type": "stream",
          "name": "stdout",
          "text": [
            "[tensor([[[[0., 0., 0.,  ..., 0., 0., 0.],\n",
            "          [0., 0., 0.,  ..., 0., 0., 0.],\n",
            "          [0., 0., 0.,  ..., 0., 0., 0.],\n",
            "          ...,\n",
            "          [0., 0., 0.,  ..., 0., 0., 0.],\n",
            "          [0., 0., 0.,  ..., 0., 0., 0.],\n",
            "          [0., 0., 0.,  ..., 0., 0., 0.]]],\n",
            "\n",
            "\n",
            "        [[[0., 0., 0.,  ..., 0., 0., 0.],\n",
            "          [0., 0., 0.,  ..., 0., 0., 0.],\n",
            "          [0., 0., 0.,  ..., 0., 0., 0.],\n",
            "          ...,\n",
            "          [0., 0., 0.,  ..., 0., 0., 0.],\n",
            "          [0., 0., 0.,  ..., 0., 0., 0.],\n",
            "          [0., 0., 0.,  ..., 0., 0., 0.]]],\n",
            "\n",
            "\n",
            "        [[[0., 0., 0.,  ..., 0., 0., 0.],\n",
            "          [0., 0., 0.,  ..., 0., 0., 0.],\n",
            "          [0., 0., 0.,  ..., 0., 0., 0.],\n",
            "          ...,\n",
            "          [0., 0., 0.,  ..., 0., 0., 0.],\n",
            "          [0., 0., 0.,  ..., 0., 0., 0.],\n",
            "          [0., 0., 0.,  ..., 0., 0., 0.]]],\n",
            "\n",
            "\n",
            "        ...,\n",
            "\n",
            "\n",
            "        [[[0., 0., 0.,  ..., 0., 0., 0.],\n",
            "          [0., 0., 0.,  ..., 0., 0., 0.],\n",
            "          [0., 0., 0.,  ..., 0., 0., 0.],\n",
            "          ...,\n",
            "          [0., 0., 0.,  ..., 0., 0., 0.],\n",
            "          [0., 0., 0.,  ..., 0., 0., 0.],\n",
            "          [0., 0., 0.,  ..., 0., 0., 0.]]],\n",
            "\n",
            "\n",
            "        [[[0., 0., 0.,  ..., 0., 0., 0.],\n",
            "          [0., 0., 0.,  ..., 0., 0., 0.],\n",
            "          [0., 0., 0.,  ..., 0., 0., 0.],\n",
            "          ...,\n",
            "          [0., 0., 0.,  ..., 0., 0., 0.],\n",
            "          [0., 0., 0.,  ..., 0., 0., 0.],\n",
            "          [0., 0., 0.,  ..., 0., 0., 0.]]],\n",
            "\n",
            "\n",
            "        [[[0., 0., 0.,  ..., 0., 0., 0.],\n",
            "          [0., 0., 0.,  ..., 0., 0., 0.],\n",
            "          [0., 0., 0.,  ..., 0., 0., 0.],\n",
            "          ...,\n",
            "          [0., 0., 0.,  ..., 0., 0., 0.],\n",
            "          [0., 0., 0.,  ..., 0., 0., 0.],\n",
            "          [0., 0., 0.,  ..., 0., 0., 0.]]]]), tensor([3, 4, 3, 9, 2, 8, 6, 1, 6, 0, 4, 3, 5, 1, 0, 8, 9, 5, 6, 9, 9, 7, 8, 4,\n",
            "        2, 6, 5, 9, 3, 1, 9, 5, 0, 0, 7, 9, 8, 9, 4, 1, 7, 1, 7, 4, 0, 0, 4, 0,\n",
            "        9, 2, 4, 7, 8, 6, 9, 3, 3, 7, 4, 5, 0, 1, 2, 7, 4, 6, 1, 8, 3, 2, 6, 5,\n",
            "        3, 1, 0, 9, 6, 6, 0, 1, 7, 3, 6, 8, 4, 2, 7, 5, 5, 1, 3, 9, 0, 7, 3, 0,\n",
            "        4, 0, 6, 7])]\n",
            "torch.Size([100, 1, 28, 28])\n"
          ]
        }
      ]
    },
    {
      "cell_type": "code",
      "source": [
        "sample = next(iter(train_loader))\n",
        "image, label = sample[0][0], sample[1][0]\n",
        "\n",
        "plt.imshow(image.reshape(28, 28), 'gray')\n",
        "plt.title(label)\n",
        "plt.show()"
      ],
      "metadata": {
        "colab": {
          "base_uri": "https://localhost:8080/",
          "height": 280
        },
        "id": "uP0Ix6KaqOzu",
        "outputId": "741e2211-d5f2-4687-b0df-5fa187f23174"
      },
      "execution_count": 4,
      "outputs": [
        {
          "output_type": "display_data",
          "data": {
            "image/png": "[encoded data removed]",
            "text/plain": [
              "<Figure size 432x288 with 1 Axes>"
            ]
          },
          "metadata": {
            "needs_background": "light"
          }
        }
      ]
    },
    {
      "cell_type": "markdown",
      "source": [
        "# Define CNN"
      ],
      "metadata": {
        "id": "12p4aWlIrWoW"
      }
    },
    {
      "cell_type": "code",
      "source": [
        "class CNN(nn.Module):\n",
        "    def __init__(self):\n",
        "        super().__init__()\n",
        "        self.conv1 = nn.Sequential(\n",
        "            nn.Conv2d(1, 32, 3, 1, 1),     # B x 32 x 28 x 28             \n",
        "            nn.ReLU(),\n",
        "            nn.MaxPool2d(2, 2)             # B x 32 x 14 x 14\n",
        "        )\n",
        "        self.conv2 = nn.Sequential(\n",
        "            nn.Conv2d(32, 64, 3, 1, 1),    # B x 64 x 14 x 14 \n",
        "            nn.ReLU(),\n",
        "            nn.MaxPool2d(2, 2)             # B x 64 x 7 x 7\n",
        "        )\n",
        "        self.fc1 = nn.Linear(64*7*7, 128)\n",
        "        self.fc2 = nn.Linear(128, 10)\n",
        "\n",
        "    def forward(self, input):\n",
        "        x = self.conv1(input)\n",
        "        x = self.conv2(x)\n",
        "        x = x.view(x.size(0), -1)\n",
        "\n",
        "        x = F.relu(self.fc1(x))\n",
        "        out = self.fc2(x)\n",
        "        return out"
      ],
      "metadata": {
        "id": "ZRL1KHgkUgqH"
      },
      "execution_count": 5,
      "outputs": []
    },
    {
      "cell_type": "markdown",
      "source": [
        "# Define hyperparameters"
      ],
      "metadata": {
        "id": "E2_RY5fJrh3s"
      }
    },
    {
      "cell_type": "code",
      "source": [
        "lr = 1e-3\n",
        "epochs = 15\n",
        "log_interval = 100"
      ],
      "metadata": {
        "id": "AgtWa-XqZlXV"
      },
      "execution_count": 6,
      "outputs": []
    },
    {
      "cell_type": "markdown",
      "source": [
        "# Define model & optimizer & loss function"
      ],
      "metadata": {
        "id": "uBYL7E5grjX5"
      }
    },
    {
      "cell_type": "code",
      "source": [
        "device = 'cuda' if torch.cuda.is_available() else 'cpu'\n",
        "print(device)\n",
        "\n",
        "model = CNN().to(device)\n",
        "summary(model, input_size=(1, 28, 28))\n",
        "\n",
        "loss_function = nn.CrossEntropyLoss()\n",
        "optimizer = optim.SGD(model.parameters(), lr=lr)"
      ],
      "metadata": {
        "colab": {
          "base_uri": "https://localhost:8080/"
        },
        "id": "nQQ7OyobVnnX",
        "outputId": "bc42ad91-8400-4b82-f747-350962f9997d"
      },
      "execution_count": 8,
      "outputs": [
        {
          "output_type": "stream",
          "name": "stdout",
          "text": [
            "cuda\n",
            "----------------------------------------------------------------\n",
            "        Layer (type)               Output Shape         Param #\n",
            "================================================================\n",
            "            Conv2d-1           [-1, 32, 28, 28]             320\n",
            "              ReLU-2           [-1, 32, 28, 28]               0\n",
            "         MaxPool2d-3           [-1, 32, 14, 14]               0\n",
            "            Conv2d-4           [-1, 64, 14, 14]          18,496\n",
            "              ReLU-5           [-1, 64, 14, 14]               0\n",
            "         MaxPool2d-6             [-1, 64, 7, 7]               0\n",
            "            Linear-7                  [-1, 128]         401,536\n",
            "            Linear-8                   [-1, 10]           1,290\n",
            "================================================================\n",
            "Total params: 421,642\n",
            "Trainable params: 421,642\n",
            "Non-trainable params: 0\n",
            "----------------------------------------------------------------\n",
            "Input size (MB): 0.00\n",
            "Forward/backward pass size (MB): 0.65\n",
            "Params size (MB): 1.61\n",
            "Estimated Total Size (MB): 2.26\n",
            "----------------------------------------------------------------\n"
          ]
        }
      ]
    },
    {
      "cell_type": "markdown",
      "source": [
        "# Training & Validation"
      ],
      "metadata": {
        "id": "Km1hIZqFrpsf"
      }
    },
    {
      "cell_type": "code",
      "source": [
        "train_result = []\n",
        "val_result = []\n",
        "\n",
        "for epoch in range(1, epochs + 1):\n",
        "    # train mode\n",
        "    model.train()\n",
        "\n",
        "    for batch_idx, (images, labels) in enumerate(train_loader):\n",
        "        current_loss = 0\n",
        "        current_correct = 0\n",
        "        images, labels = images.to(device), labels.to(device)\n",
        "\n",
        "        # Forward\n",
        "        outputs = model(images)\n",
        "        _, preds = torch.max(outputs, 1)\n",
        "\n",
        "        loss = loss_function(outputs, labels)\n",
        "\n",
        "        # Back propagation\n",
        "        optimizer.zero_grad()\n",
        "        loss.backward()\n",
        "        optimizer.step()\n",
        "\n",
        "        current_loss += loss.item() \n",
        "        current_correct += torch.sum(preds == labels.data)\n",
        "\n",
        "        if batch_idx % log_interval == 0:\n",
        "            train_loss = current_loss / log_interval\n",
        "            train_acc = current_correct / log_interval\n",
        "\n",
        "            print(\"Train Epoch: {} [{}/{} ({:.0f}%)]\\tTrain Loss: {:.6f}, Train Acc: {:.2f}\".format(\n",
        "                epoch, \n",
        "                batch_idx * len(images), \n",
        "                len(train_loader) * 100, \n",
        "                100 * batch_idx / len(train_loader), \n",
        "                train_loss, \n",
        "                train_acc))\n",
        "            \n",
        "    train_result.append((current_loss / len(images), current_correct / len(images)))\n",
        "\n",
        "    # val mode\n",
        "    with torch.no_grad():\n",
        "        model.eval()\n",
        "        val_loss = 0\n",
        "        val_correct = 0\n",
        "        for idx, (val_images, val_labels) in enumerate(val_loader):\n",
        "\n",
        "            val_images, val_labels = val_images.to(device), val_labels.to(device)\n",
        "\n",
        "            val_outputs = model(val_images)\n",
        "            _, val_preds = torch.max(val_outputs, 1)\n",
        "\n",
        "            val_loss += loss_function(val_outputs, val_labels) / val_outputs.shape[0]\n",
        "            val_correct += torch.sum(val_preds == val_labels.data) / val_outputs.shape[0]\n",
        "\n",
        "    val_epoch_loss = val_loss / len(val_loader)\n",
        "    val_epoch_acc = val_correct / len(val_loader)\n",
        "\n",
        "    val_result.append((val_epoch_loss, val_epoch_acc))\n",
        "    print(\"Validation set: Val Loss: {:.6f}, Val Acc: {:.2f}\".format(val_epoch_loss, val_epoch_acc))"
      ],
      "metadata": {
        "colab": {
          "base_uri": "https://localhost:8080/"
        },
        "id": "cz1--P_aXTJB",
        "outputId": "95576be5-6590-46c0-dda7-32148fc6e1ba"
      },
      "execution_count": 9,
      "outputs": [
        {
          "output_type": "stream",
          "name": "stdout",
          "text": [
            "Train Epoch: 1 [0/60000 (0%)]\tTrain Loss: 0.023073, Train Acc: 0.10\n",
            "Train Epoch: 1 [10000/60000 (17%)]\tTrain Loss: 0.022940, Train Acc: 0.12\n",
            "Train Epoch: 1 [20000/60000 (33%)]\tTrain Loss: 0.023031, Train Acc: 0.04\n",
            "Train Epoch: 1 [30000/60000 (50%)]\tTrain Loss: 0.022876, Train Acc: 0.15\n",
            "Train Epoch: 1 [40000/60000 (67%)]\tTrain Loss: 0.022902, Train Acc: 0.08\n",
            "Train Epoch: 1 [50000/60000 (83%)]\tTrain Loss: 0.022831, Train Acc: 0.14\n",
            "Validation set: Val Loss: 0.022732, Val Acc: 0.12\n",
            "Train Epoch: 2 [0/60000 (0%)]\tTrain Loss: 0.022630, Train Acc: 0.19\n",
            "Train Epoch: 2 [10000/60000 (17%)]\tTrain Loss: 0.022679, Train Acc: 0.20\n",
            "Train Epoch: 2 [20000/60000 (33%)]\tTrain Loss: 0.022628, Train Acc: 0.19\n",
            "Train Epoch: 2 [30000/60000 (50%)]\tTrain Loss: 0.022565, Train Acc: 0.24\n",
            "Train Epoch: 2 [40000/60000 (67%)]\tTrain Loss: 0.022464, Train Acc: 0.29\n",
            "Train Epoch: 2 [50000/60000 (83%)]\tTrain Loss: 0.022474, Train Acc: 0.31\n",
            "Validation set: Val Loss: 0.022252, Val Acc: 0.43\n",
            "Train Epoch: 3 [0/60000 (0%)]\tTrain Loss: 0.022319, Train Acc: 0.41\n",
            "Train Epoch: 3 [10000/60000 (17%)]\tTrain Loss: 0.022115, Train Acc: 0.45\n",
            "Train Epoch: 3 [20000/60000 (33%)]\tTrain Loss: 0.021993, Train Acc: 0.53\n",
            "Train Epoch: 3 [30000/60000 (50%)]\tTrain Loss: 0.021852, Train Acc: 0.58\n",
            "Train Epoch: 3 [40000/60000 (67%)]\tTrain Loss: 0.021676, Train Acc: 0.61\n",
            "Train Epoch: 3 [50000/60000 (83%)]\tTrain Loss: 0.021533, Train Acc: 0.59\n",
            "Validation set: Val Loss: 0.021240, Val Acc: 0.64\n",
            "Train Epoch: 4 [0/60000 (0%)]\tTrain Loss: 0.021399, Train Acc: 0.58\n",
            "Train Epoch: 4 [10000/60000 (17%)]\tTrain Loss: 0.020990, Train Acc: 0.62\n",
            "Train Epoch: 4 [20000/60000 (33%)]\tTrain Loss: 0.020495, Train Acc: 0.77\n",
            "Train Epoch: 4 [30000/60000 (50%)]\tTrain Loss: 0.020264, Train Acc: 0.61\n",
            "Train Epoch: 4 [40000/60000 (67%)]\tTrain Loss: 0.019769, Train Acc: 0.70\n",
            "Train Epoch: 4 [50000/60000 (83%)]\tTrain Loss: 0.019317, Train Acc: 0.64\n",
            "Validation set: Val Loss: 0.018456, Val Acc: 0.69\n",
            "Train Epoch: 5 [0/60000 (0%)]\tTrain Loss: 0.018815, Train Acc: 0.67\n",
            "Train Epoch: 5 [10000/60000 (17%)]\tTrain Loss: 0.017236, Train Acc: 0.73\n",
            "Train Epoch: 5 [20000/60000 (33%)]\tTrain Loss: 0.016398, Train Acc: 0.73\n",
            "Train Epoch: 5 [30000/60000 (50%)]\tTrain Loss: 0.015095, Train Acc: 0.80\n",
            "Train Epoch: 5 [40000/60000 (67%)]\tTrain Loss: 0.013969, Train Acc: 0.75\n",
            "Train Epoch: 5 [50000/60000 (83%)]\tTrain Loss: 0.012725, Train Acc: 0.78\n",
            "Validation set: Val Loss: 0.012245, Val Acc: 0.76\n",
            "Train Epoch: 6 [0/60000 (0%)]\tTrain Loss: 0.012290, Train Acc: 0.76\n",
            "Train Epoch: 6 [10000/60000 (17%)]\tTrain Loss: 0.012331, Train Acc: 0.68\n",
            "Train Epoch: 6 [20000/60000 (33%)]\tTrain Loss: 0.010418, Train Acc: 0.77\n",
            "Train Epoch: 6 [30000/60000 (50%)]\tTrain Loss: 0.010187, Train Acc: 0.70\n",
            "Train Epoch: 6 [40000/60000 (67%)]\tTrain Loss: 0.008947, Train Acc: 0.84\n",
            "Train Epoch: 6 [50000/60000 (83%)]\tTrain Loss: 0.009683, Train Acc: 0.68\n",
            "Validation set: Val Loss: 0.007739, Val Acc: 0.81\n",
            "Train Epoch: 7 [0/60000 (0%)]\tTrain Loss: 0.006811, Train Acc: 0.87\n",
            "Train Epoch: 7 [10000/60000 (17%)]\tTrain Loss: 0.007978, Train Acc: 0.79\n",
            "Train Epoch: 7 [20000/60000 (33%)]\tTrain Loss: 0.007727, Train Acc: 0.79\n",
            "Train Epoch: 7 [30000/60000 (50%)]\tTrain Loss: 0.006547, Train Acc: 0.82\n",
            "Train Epoch: 7 [40000/60000 (67%)]\tTrain Loss: 0.005530, Train Acc: 0.83\n",
            "Train Epoch: 7 [50000/60000 (83%)]\tTrain Loss: 0.007160, Train Acc: 0.77\n",
            "Validation set: Val Loss: 0.005891, Val Acc: 0.84\n",
            "Train Epoch: 8 [0/60000 (0%)]\tTrain Loss: 0.005792, Train Acc: 0.86\n",
            "Train Epoch: 8 [10000/60000 (17%)]\tTrain Loss: 0.006845, Train Acc: 0.85\n",
            "Train Epoch: 8 [20000/60000 (33%)]\tTrain Loss: 0.006623, Train Acc: 0.76\n",
            "Train Epoch: 8 [30000/60000 (50%)]\tTrain Loss: 0.004830, Train Acc: 0.85\n",
            "Train Epoch: 8 [40000/60000 (67%)]\tTrain Loss: 0.007034, Train Acc: 0.80\n",
            "Train Epoch: 8 [50000/60000 (83%)]\tTrain Loss: 0.006385, Train Acc: 0.82\n",
            "Validation set: Val Loss: 0.004921, Val Acc: 0.87\n",
            "Train Epoch: 9 [0/60000 (0%)]\tTrain Loss: 0.003823, Train Acc: 0.90\n",
            "Train Epoch: 9 [10000/60000 (17%)]\tTrain Loss: 0.004269, Train Acc: 0.88\n",
            "Train Epoch: 9 [20000/60000 (33%)]\tTrain Loss: 0.004317, Train Acc: 0.85\n",
            "Train Epoch: 9 [30000/60000 (50%)]\tTrain Loss: 0.004940, Train Acc: 0.85\n",
            "Train Epoch: 9 [40000/60000 (67%)]\tTrain Loss: 0.004274, Train Acc: 0.90\n",
            "Train Epoch: 9 [50000/60000 (83%)]\tTrain Loss: 0.005093, Train Acc: 0.86\n",
            "Validation set: Val Loss: 0.004340, Val Acc: 0.88\n",
            "Train Epoch: 10 [0/60000 (0%)]\tTrain Loss: 0.004446, Train Acc: 0.90\n",
            "Train Epoch: 10 [10000/60000 (17%)]\tTrain Loss: 0.005287, Train Acc: 0.86\n",
            "Train Epoch: 10 [20000/60000 (33%)]\tTrain Loss: 0.003361, Train Acc: 0.94\n",
            "Train Epoch: 10 [30000/60000 (50%)]\tTrain Loss: 0.005209, Train Acc: 0.85\n",
            "Train Epoch: 10 [40000/60000 (67%)]\tTrain Loss: 0.005374, Train Acc: 0.82\n",
            "Train Epoch: 10 [50000/60000 (83%)]\tTrain Loss: 0.004653, Train Acc: 0.86\n",
            "Validation set: Val Loss: 0.003965, Val Acc: 0.89\n",
            "Train Epoch: 11 [0/60000 (0%)]\tTrain Loss: 0.005058, Train Acc: 0.85\n",
            "Train Epoch: 11 [10000/60000 (17%)]\tTrain Loss: 0.004344, Train Acc: 0.86\n",
            "Train Epoch: 11 [20000/60000 (33%)]\tTrain Loss: 0.004372, Train Acc: 0.87\n",
            "Train Epoch: 11 [30000/60000 (50%)]\tTrain Loss: 0.003414, Train Acc: 0.91\n",
            "Train Epoch: 11 [40000/60000 (67%)]\tTrain Loss: 0.004275, Train Acc: 0.88\n",
            "Train Epoch: 11 [50000/60000 (83%)]\tTrain Loss: 0.003371, Train Acc: 0.89\n",
            "Validation set: Val Loss: 0.003712, Val Acc: 0.90\n",
            "Train Epoch: 12 [0/60000 (0%)]\tTrain Loss: 0.004092, Train Acc: 0.90\n",
            "Train Epoch: 12 [10000/60000 (17%)]\tTrain Loss: 0.003175, Train Acc: 0.90\n",
            "Train Epoch: 12 [20000/60000 (33%)]\tTrain Loss: 0.004022, Train Acc: 0.89\n",
            "Train Epoch: 12 [30000/60000 (50%)]\tTrain Loss: 0.003681, Train Acc: 0.92\n",
            "Train Epoch: 12 [40000/60000 (67%)]\tTrain Loss: 0.002703, Train Acc: 0.91\n",
            "Train Epoch: 12 [50000/60000 (83%)]\tTrain Loss: 0.003184, Train Acc: 0.90\n",
            "Validation set: Val Loss: 0.003486, Val Acc: 0.90\n",
            "Train Epoch: 13 [0/60000 (0%)]\tTrain Loss: 0.004607, Train Acc: 0.84\n",
            "Train Epoch: 13 [10000/60000 (17%)]\tTrain Loss: 0.003262, Train Acc: 0.92\n",
            "Train Epoch: 13 [20000/60000 (33%)]\tTrain Loss: 0.002268, Train Acc: 0.95\n",
            "Train Epoch: 13 [30000/60000 (50%)]\tTrain Loss: 0.004277, Train Acc: 0.83\n",
            "Train Epoch: 13 [40000/60000 (67%)]\tTrain Loss: 0.004193, Train Acc: 0.89\n",
            "Train Epoch: 13 [50000/60000 (83%)]\tTrain Loss: 0.003140, Train Acc: 0.93\n",
            "Validation set: Val Loss: 0.003350, Val Acc: 0.90\n",
            "Train Epoch: 14 [0/60000 (0%)]\tTrain Loss: 0.003750, Train Acc: 0.86\n",
            "Train Epoch: 14 [10000/60000 (17%)]\tTrain Loss: 0.002715, Train Acc: 0.93\n",
            "Train Epoch: 14 [20000/60000 (33%)]\tTrain Loss: 0.003783, Train Acc: 0.90\n",
            "Train Epoch: 14 [30000/60000 (50%)]\tTrain Loss: 0.004375, Train Acc: 0.86\n",
            "Train Epoch: 14 [40000/60000 (67%)]\tTrain Loss: 0.004709, Train Acc: 0.87\n",
            "Train Epoch: 14 [50000/60000 (83%)]\tTrain Loss: 0.002664, Train Acc: 0.91\n",
            "Validation set: Val Loss: 0.003209, Val Acc: 0.91\n",
            "Train Epoch: 15 [0/60000 (0%)]\tTrain Loss: 0.003971, Train Acc: 0.87\n",
            "Train Epoch: 15 [10000/60000 (17%)]\tTrain Loss: 0.003058, Train Acc: 0.92\n",
            "Train Epoch: 15 [20000/60000 (33%)]\tTrain Loss: 0.003410, Train Acc: 0.91\n",
            "Train Epoch: 15 [30000/60000 (50%)]\tTrain Loss: 0.003737, Train Acc: 0.90\n",
            "Train Epoch: 15 [40000/60000 (67%)]\tTrain Loss: 0.004050, Train Acc: 0.87\n",
            "Train Epoch: 15 [50000/60000 (83%)]\tTrain Loss: 0.002585, Train Acc: 0.94\n",
            "Validation set: Val Loss: 0.003119, Val Acc: 0.91\n"
          ]
        }
      ]
    },
    {
      "cell_type": "markdown",
      "source": [
        "# Visualization Loss & Accuracy"
      ],
      "metadata": {
        "id": "ZuSRsDg6ryXi"
      }
    },
    {
      "cell_type": "code",
      "source": [
        "plt.plot([i for i in range(1, epochs + 1)], [i[0] for i in train_result])\n",
        "plt.plot([i for i in range(1, epochs + 1)], [i[0] for i in val_result])\n",
        "plt.xlabel(\"Epoch\")\n",
        "plt.ylabel(\"Loss\")\n",
        "plt.legend([\"train\", \"test\"])\n",
        "plt.show()"
      ],
      "metadata": {
        "colab": {
          "base_uri": "https://localhost:8080/",
          "height": 279
        },
        "id": "C-PZVmi4gfdb",
        "outputId": "e6ae6d9c-61a7-4974-eb0a-b9f75e3ee528"
      },
      "execution_count": 10,
      "outputs": [
        {
          "output_type": "display_data",
          "data": {
            "image/png": "[encoded data removed]",
            "text/plain": [
              "<Figure size 432x288 with 1 Axes>"
            ]
          },
          "metadata": {
            "needs_background": "light"
          }
        }
      ]
    },
    {
      "cell_type": "code",
      "source": [
        "plt.plot([i for i in range(1, epochs + 1)], [i[1] for i in train_result])\n",
        "plt.plot([i for i in range(1, epochs + 1)], [i[1] for i in val_result])\n",
        "plt.xlabel(\"Epoch\")\n",
        "plt.ylabel(\"Accuracy\")\n",
        "plt.legend([\"train\", \"test\"])\n",
        "plt.show()"
      ],
      "metadata": {
        "colab": {
          "base_uri": "https://localhost:8080/",
          "height": 279
        },
        "id": "jJZw_pePkZ1l",
        "outputId": "aa956745-2a79-47d0-9ab4-f4fc1e7c2fa2"
      },
      "execution_count": 11,
      "outputs": [
        {
          "output_type": "display_data",
          "data": {
            "image/png": "[encoded data removed]",
            "text/plain": [
              "<Figure size 432x288 with 1 Axes>"
            ]
          },
          "metadata": {
            "needs_background": "light"
          }
        }
      ]
    }
  ]
}