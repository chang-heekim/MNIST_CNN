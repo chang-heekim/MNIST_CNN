{
  "nbformat": 4,
  "nbformat_minor": 0,
  "metadata": {
    "colab": {
      "name": "Tensorflow_CNN_MNIST.ipynb",
      "provenance": [],
      "authorship_tag": "ABX9TyM9g+Ga7pIQ+x2CnR91Xjhn",
      "include_colab_link": true
    },
    "kernelspec": {
      "name": "python3",
      "display_name": "Python 3"
    },
    "language_info": {
      "name": "python"
    },
    "accelerator": "GPU"
  },
  "cells": [
    {
      "cell_type": "markdown",
      "metadata": {
        "id": "view-in-github",
        "colab_type": "text"
      },
      "source": [
        "<a href=\"https://colab.research.google.com/github/chang-heekim/MNIST_CNN/blob/main/Tensorflow_CNN_MNIST.ipynb\" target=\"_parent\"><img src=\"https://colab.research.google.com/assets/colab-badge.svg\" alt=\"Open In Colab\"/></a>"
      ]
    },
    {
      "cell_type": "code",
      "execution_count": 1,
      "metadata": {
        "id": "KCQ8hzYd4BVZ"
      },
      "outputs": [],
      "source": [
        "import numpy as np\n",
        "import tensorflow as tf\n",
        "import matplotlib.pyplot as plt\n",
        "plt.style.use('seaborn')"
      ]
    },
    {
      "cell_type": "code",
      "source": [
        "(train_images, train_labels), (test_images, test_labels) = tf.keras.datasets.mnist.load_data()\n",
        "\n",
        "train_images = train_images / 255.\n",
        "test_images = test_images / 255. \n",
        "\n",
        "train_size = int(len(train_images) * 0.9)\n",
        "val_size = len(train_images) - train_size\n",
        "\n",
        "dataset = tf.data.Dataset.from_tensor_slices((train_images, train_labels)).shuffle(1024)\n",
        "test_dataset = tf.data.Dataset.from_tensor_slices((test_images, test_labels))\n",
        "\n",
        "train_dataset = dataset.take(train_size)\n",
        "val_dataset= dataset.take(val_size)\n",
        "\n",
        "train_batch_size = 100\n",
        "val_batch_size = 10\n",
        "test_batch_size = 100\n",
        "\n",
        "train_dataset = train_dataset.batch(train_batch_size, drop_remainder=True)\n",
        "val_dataset = val_dataset.batch(val_batch_size, drop_remainder=True)\n",
        "test_dataset = test_dataset.batch(test_batch_size, drop_remainder=True)"
      ],
      "metadata": {
        "colab": {
          "base_uri": "https://localhost:8080/"
        },
        "id": "4H7m5MPR5TXQ",
        "outputId": "d05bceb4-05a2-49fb-de6d-b1d1489ab920"
      },
      "execution_count": 2,
      "outputs": [
        {
          "output_type": "stream",
          "name": "stdout",
          "text": [
            "Downloading data from https://storage.googleapis.com/tensorflow/tf-keras-datasets/mnist.npz\n",
            "11493376/11490434 [==============================] - 0s 0us/step\n",
            "11501568/11490434 [==============================] - 0s 0us/step\n"
          ]
        }
      ]
    },
    {
      "cell_type": "code",
      "source": [
        "for sample_batch in train_dataset:\n",
        "    print(sample_batch)\n",
        "    break"
      ],
      "metadata": {
        "colab": {
          "base_uri": "https://localhost:8080/"
        },
        "id": "T0fFvcmX7zBE",
        "outputId": "00fef426-48e3-4c54-8f31-e2bdaeebf9cb"
      },
      "execution_count": 3,
      "outputs": [
        {
          "output_type": "stream",
          "name": "stdout",
          "text": [
            "(<tf.Tensor: shape=(100, 28, 28), dtype=float64, numpy=\n",
            "array([[[0., 0., 0., ..., 0., 0., 0.],\n",
            "        [0., 0., 0., ..., 0., 0., 0.],\n",
            "        [0., 0., 0., ..., 0., 0., 0.],\n",
            "        ...,\n",
            "        [0., 0., 0., ..., 0., 0., 0.],\n",
            "        [0., 0., 0., ..., 0., 0., 0.],\n",
            "        [0., 0., 0., ..., 0., 0., 0.]],\n",
            "\n",
            "       [[0., 0., 0., ..., 0., 0., 0.],\n",
            "        [0., 0., 0., ..., 0., 0., 0.],\n",
            "        [0., 0., 0., ..., 0., 0., 0.],\n",
            "        ...,\n",
            "        [0., 0., 0., ..., 0., 0., 0.],\n",
            "        [0., 0., 0., ..., 0., 0., 0.],\n",
            "        [0., 0., 0., ..., 0., 0., 0.]],\n",
            "\n",
            "       [[0., 0., 0., ..., 0., 0., 0.],\n",
            "        [0., 0., 0., ..., 0., 0., 0.],\n",
            "        [0., 0., 0., ..., 0., 0., 0.],\n",
            "        ...,\n",
            "        [0., 0., 0., ..., 0., 0., 0.],\n",
            "        [0., 0., 0., ..., 0., 0., 0.],\n",
            "        [0., 0., 0., ..., 0., 0., 0.]],\n",
            "\n",
            "       ...,\n",
            "\n",
            "       [[0., 0., 0., ..., 0., 0., 0.],\n",
            "        [0., 0., 0., ..., 0., 0., 0.],\n",
            "        [0., 0., 0., ..., 0., 0., 0.],\n",
            "        ...,\n",
            "        [0., 0., 0., ..., 0., 0., 0.],\n",
            "        [0., 0., 0., ..., 0., 0., 0.],\n",
            "        [0., 0., 0., ..., 0., 0., 0.]],\n",
            "\n",
            "       [[0., 0., 0., ..., 0., 0., 0.],\n",
            "        [0., 0., 0., ..., 0., 0., 0.],\n",
            "        [0., 0., 0., ..., 0., 0., 0.],\n",
            "        ...,\n",
            "        [0., 0., 0., ..., 0., 0., 0.],\n",
            "        [0., 0., 0., ..., 0., 0., 0.],\n",
            "        [0., 0., 0., ..., 0., 0., 0.]],\n",
            "\n",
            "       [[0., 0., 0., ..., 0., 0., 0.],\n",
            "        [0., 0., 0., ..., 0., 0., 0.],\n",
            "        [0., 0., 0., ..., 0., 0., 0.],\n",
            "        ...,\n",
            "        [0., 0., 0., ..., 0., 0., 0.],\n",
            "        [0., 0., 0., ..., 0., 0., 0.],\n",
            "        [0., 0., 0., ..., 0., 0., 0.]]])>, <tf.Tensor: shape=(100,), dtype=uint8, numpy=\n",
            "array([0, 2, 4, 1, 0, 6, 9, 7, 1, 1, 7, 4, 3, 5, 1, 1, 2, 6, 5, 7, 0, 4,\n",
            "       7, 7, 0, 0, 6, 5, 3, 6, 1, 6, 3, 9, 9, 0, 0, 8, 1, 7, 0, 3, 4, 9,\n",
            "       9, 0, 0, 8, 9, 5, 6, 8, 2, 3, 9, 0, 5, 6, 5, 1, 7, 9, 9, 1, 0, 0,\n",
            "       5, 2, 1, 4, 4, 6, 0, 6, 5, 2, 9, 6, 7, 4, 3, 9, 0, 8, 9, 1, 5, 8,\n",
            "       8, 6, 1, 7, 0, 3, 9, 0, 7, 6, 7, 5], dtype=uint8)>)\n"
          ]
        }
      ]
    },
    {
      "cell_type": "code",
      "source": [
        "sample = next(iter(train_dataset))\n",
        "img, label = sample[0][0], sample[1][0]\n",
        "plt.imshow(img, 'gray')\n",
        "plt.title(label.numpy())\n",
        "plt.show()"
      ],
      "metadata": {
        "colab": {
          "base_uri": "https://localhost:8080/",
          "height": 280
        },
        "id": "js1VKaZP775a",
        "outputId": "1dd2882c-9db4-4311-a62c-958dd94edcbe"
      },
      "execution_count": 4,
      "outputs": [
        {
          "output_type": "display_data",
          "data": {
            "image/png": "[encoded data removed]",
            "text/plain": [
              "<Figure size 432x288 with 1 Axes>"
            ]
          },
          "metadata": {
            "needs_background": "light"
          }
        }
      ]
    },
    {
      "cell_type": "code",
      "source": [
        "class CNN(tf.keras.Model):\n",
        "    def __init__(self):\n",
        "        super().__init__()\n",
        "        self.conv1 = tf.keras.Sequential([\n",
        "            tf.keras.layers.Conv2D(32, 3, 1, 'same', activation='relu'),        # B x 28 x 28 x 32\n",
        "            tf.keras.layers.MaxPool2D(2, 2)                                        # B x 14 x 14 x 32\n",
        "        ])\n",
        "        self.conv2 = tf.keras.Sequential([\n",
        "            tf.keras.layers.Conv2D(64, 3, 1, 'same', activation='relu'),        # B x 14 x 14 x 64 \n",
        "            tf.keras.layers.MaxPool2D(2, 2)                                        # B x 7 x 7 x 64\n",
        "        ])\n",
        "        self.flatten = tf.keras.layers.Flatten()\n",
        "        self.fc1 = tf.keras.layers.Dense(256, activation='relu')\n",
        "        self.fc2 = tf.keras.layers.Dense(10, activation='softmax')\n",
        "\n",
        "    def call(self, input):\n",
        "        x = tf.expand_dims(input, -1)\n",
        "        x = self.conv1(x)\n",
        "        x = self.conv2(x)\n",
        "        x = self.flatten(x)\n",
        "\n",
        "        x = self.fc1(x)\n",
        "        out = self.fc2(x)\n",
        "        return out"
      ],
      "metadata": {
        "id": "Zh3YVZ5p8yFS"
      },
      "execution_count": 6,
      "outputs": []
    },
    {
      "cell_type": "code",
      "source": [
        "input_shape = (None, 28, 28)\n",
        "model = CNN()\n",
        "model.build(input_shape)\n",
        "model.summary()\n",
        "model.compile(\n",
        "    loss='sparse_categorical_crossentropy',\n",
        "    optimizer=tf.optimizers.SGD(learning_rate=1e-3),\n",
        "    metrics=['accuracy']\n",
        ")"
      ],
      "metadata": {
        "colab": {
          "base_uri": "https://localhost:8080/"
        },
        "id": "yNH-qwGV-Pfh",
        "outputId": "b43d8ab2-7df1-493f-f1bf-3391a8de35b0"
      },
      "execution_count": 7,
      "outputs": [
        {
          "output_type": "stream",
          "name": "stdout",
          "text": [
            "Model: \"cnn\"\n",
            "_________________________________________________________________\n",
            " Layer (type)                Output Shape              Param #   \n",
            "=================================================================\n",
            " sequential (Sequential)     (None, 14, 14, 32)        320       \n",
            "                                                                 \n",
            " sequential_1 (Sequential)   (None, 7, 7, 64)          18496     \n",
            "                                                                 \n",
            " flatten (Flatten)           multiple                  0         \n",
            "                                                                 \n",
            " dense (Dense)               multiple                  803072    \n",
            "                                                                 \n",
            " dense_1 (Dense)             multiple                  2570      \n",
            "                                                                 \n",
            "=================================================================\n",
            "Total params: 824,458\n",
            "Trainable params: 824,458\n",
            "Non-trainable params: 0\n",
            "_________________________________________________________________\n"
          ]
        }
      ]
    },
    {
      "cell_type": "code",
      "source": [
        "hist = model.fit(\n",
        "    train_dataset, epochs=15, validation_data=val_dataset\n",
        ")"
      ],
      "metadata": {
        "colab": {
          "base_uri": "https://localhost:8080/"
        },
        "id": "ZLdWCgW-_PMx",
        "outputId": "4ef6b547-1312-4573-87f5-75e78c872a83"
      },
      "execution_count": 8,
      "outputs": [
        {
          "output_type": "stream",
          "name": "stdout",
          "text": [
            "Epoch 1/15\n",
            "540/540 [==============================] - 16s 13ms/step - loss: 2.2825 - accuracy: 0.1754 - val_loss: 2.2561 - val_accuracy: 0.3412\n",
            "Epoch 2/15\n",
            "540/540 [==============================] - 8s 15ms/step - loss: 2.2208 - accuracy: 0.4638 - val_loss: 2.1695 - val_accuracy: 0.5788\n",
            "Epoch 3/15\n",
            "540/540 [==============================] - 7s 12ms/step - loss: 2.0730 - accuracy: 0.6238 - val_loss: 1.9181 - val_accuracy: 0.6880\n",
            "Epoch 4/15\n",
            "540/540 [==============================] - 6s 12ms/step - loss: 1.6149 - accuracy: 0.7177 - val_loss: 1.2075 - val_accuracy: 0.7752\n",
            "Epoch 5/15\n",
            "540/540 [==============================] - 6s 12ms/step - loss: 0.9217 - accuracy: 0.7935 - val_loss: 0.6819 - val_accuracy: 0.8295\n",
            "Epoch 6/15\n",
            "540/540 [==============================] - 6s 12ms/step - loss: 0.6010 - accuracy: 0.8425 - val_loss: 0.4910 - val_accuracy: 0.8715\n",
            "Epoch 7/15\n",
            "540/540 [==============================] - 7s 13ms/step - loss: 0.4755 - accuracy: 0.8685 - val_loss: 0.4123 - val_accuracy: 0.8918\n",
            "Epoch 8/15\n",
            "540/540 [==============================] - 7s 14ms/step - loss: 0.4122 - accuracy: 0.8841 - val_loss: 0.3590 - val_accuracy: 0.9020\n",
            "Epoch 9/15\n",
            "540/540 [==============================] - 7s 13ms/step - loss: 0.3714 - accuracy: 0.8944 - val_loss: 0.3283 - val_accuracy: 0.9085\n",
            "Epoch 10/15\n",
            "540/540 [==============================] - 7s 13ms/step - loss: 0.3432 - accuracy: 0.9020 - val_loss: 0.3062 - val_accuracy: 0.9155\n",
            "Epoch 11/15\n",
            "540/540 [==============================] - 7s 12ms/step - loss: 0.3215 - accuracy: 0.9069 - val_loss: 0.2884 - val_accuracy: 0.9192\n",
            "Epoch 12/15\n",
            "540/540 [==============================] - 6s 12ms/step - loss: 0.3047 - accuracy: 0.9119 - val_loss: 0.2752 - val_accuracy: 0.9215\n",
            "Epoch 13/15\n",
            "540/540 [==============================] - 8s 14ms/step - loss: 0.2894 - accuracy: 0.9153 - val_loss: 0.2580 - val_accuracy: 0.9273\n",
            "Epoch 14/15\n",
            "540/540 [==============================] - 7s 13ms/step - loss: 0.2776 - accuracy: 0.9194 - val_loss: 0.2494 - val_accuracy: 0.9277\n",
            "Epoch 15/15\n",
            "540/540 [==============================] - 7s 13ms/step - loss: 0.2664 - accuracy: 0.9225 - val_loss: 0.2412 - val_accuracy: 0.9305\n"
          ]
        }
      ]
    },
    {
      "cell_type": "code",
      "source": [
        "plt.figure(figsize=(10, 5))\n",
        "plt.subplot(121)\n",
        "plt.plot(hist.history['loss'], label='loss')\n",
        "plt.plot(hist.history['val_loss'], label='val_loss')\n",
        "plt.title('Train Loss & Val Loss')\n",
        "plt.xlabel('Epoch')\n",
        "plt.ylabel('Loss')\n",
        "plt.legend(loc='best')\n",
        "\n",
        "plt.subplot(122)\n",
        "plt.plot(hist.history['accuracy'], label='accuracy')\n",
        "plt.plot(hist.history['val_accuracy'], label='val_accuracy')\n",
        "plt.legend(loc='best')\n",
        "plt.title('Train Accuracy & Val Accuracy')\n",
        "plt.xlabel('Epoch')\n",
        "plt.ylabel('Accuracy')\n",
        "plt.show()"
      ],
      "metadata": {
        "colab": {
          "base_uri": "https://localhost:8080/",
          "height": 349
        },
        "id": "ZBqRO5dtHmXJ",
        "outputId": "42dcedb4-dd4a-409e-dcab-412baaa1ec14"
      },
      "execution_count": 9,
      "outputs": [
        {
          "output_type": "display_data",
          "data": {
            "image/png": "[encoded data removed]",
            "text/plain": [
              "<Figure size 720x360 with 2 Axes>"
            ]
          },
          "metadata": {
            "needs_background": "light"
          }
        }
      ]
    },
    {
      "cell_type": "code",
      "source": [
        "test_loss, test_acc = model.evaluate(test_dataset)\n",
        "print(f\"Test Loss: {test_loss}, Test Accuracy: {test_acc}\")"
      ],
      "metadata": {
        "colab": {
          "base_uri": "https://localhost:8080/"
        },
        "id": "_Yy-ztUwNXzk",
        "outputId": "aa58e944-77ea-4116-e9a0-570b0dcaf2ac"
      },
      "execution_count": 11,
      "outputs": [
        {
          "output_type": "stream",
          "name": "stdout",
          "text": [
            "100/100 [==============================] - 1s 6ms/step - loss: 0.2436 - accuracy: 0.9307\n",
            "Test Loss: 0.24359789490699768, Test Accuracy: 0.9307000041007996\n"
          ]
        }
      ]
    }
  ]
}