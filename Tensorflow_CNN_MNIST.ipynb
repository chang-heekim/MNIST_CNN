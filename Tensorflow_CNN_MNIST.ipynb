{
  "nbformat": 4,
  "nbformat_minor": 0,
  "metadata": {
    "colab": {
      "name": "Tensorflow_CNN_MNIST.ipynb",
      "provenance": [],
      "authorship_tag": "ABX9TyMHPeSMCy2VUp022G39T8va",
      "include_colab_link": true
    },
    "kernelspec": {
      "name": "python3",
      "display_name": "Python 3"
    },
    "language_info": {
      "name": "python"
    },
    "accelerator": "GPU"
  },
  "cells": [
    {
      "cell_type": "markdown",
      "metadata": {
        "id": "view-in-github",
        "colab_type": "text"
      },
      "source": [
        "<a href=\"https://colab.research.google.com/github/chang-heekim/MNIST_CNN/blob/main/Tensorflow_CNN_MNIST.ipynb\" target=\"_parent\"><img src=\"https://colab.research.google.com/assets/colab-badge.svg\" alt=\"Open In Colab\"/></a>"
      ]
    },
    {
      "cell_type": "code",
      "execution_count": 1,
      "metadata": {
        "id": "KCQ8hzYd4BVZ"
      },
      "outputs": [],
      "source": [
        "import numpy as np\n",
        "import tensorflow as tf\n",
        "import matplotlib.pyplot as plt\n",
        "plt.style.use('seaborn')"
      ]
    },
    {
      "cell_type": "code",
      "source": [
        "(train_images, train_labels), (test_images, test_labels) = tf.keras.datasets.mnist.load_data()\n",
        "\n",
        "train_images = train_images / 255.\n",
        "test_images = test_images / 255. \n",
        "\n",
        "train_size = int(len(train_images) * 0.9)\n",
        "val_size = len(train_images) - train_size\n",
        "\n",
        "dataset = tf.data.Dataset.from_tensor_slices((train_images, train_labels)).shuffle(1024)\n",
        "test_dataset = tf.data.Dataset.from_tensor_slices((test_images, test_labels))\n",
        "\n",
        "train_dataset = dataset.take(train_size)\n",
        "val_dataset= dataset.take(val_size)\n",
        "\n",
        "train_batch_size = 100\n",
        "val_batch_size = 10\n",
        "test_batch_size = 100\n",
        "\n",
        "train_dataset = train_dataset.batch(train_batch_size, drop_remainder=True)\n",
        "val_dataset = val_dataset.batch(val_batch_size, drop_remainder=True)\n",
        "test_dataset = test_dataset.batch(test_batch_size, drop_remainder=True)"
      ],
      "metadata": {
        "id": "4H7m5MPR5TXQ"
      },
      "execution_count": 2,
      "outputs": []
    },
    {
      "cell_type": "code",
      "source": [
        "for sample_batch in train_dataset:\n",
        "    print(sample_batch)\n",
        "    break"
      ],
      "metadata": {
        "colab": {
          "base_uri": "https://localhost:8080/"
        },
        "id": "T0fFvcmX7zBE",
        "outputId": "defce8e6-3c5f-434b-8d38-acb05aa4f58a"
      },
      "execution_count": 3,
      "outputs": [
        {
          "output_type": "stream",
          "name": "stdout",
          "text": [
            "(<tf.Tensor: shape=(100, 28, 28), dtype=float64, numpy=\n",
            "array([[[0., 0., 0., ..., 0., 0., 0.],\n",
            "        [0., 0., 0., ..., 0., 0., 0.],\n",
            "        [0., 0., 0., ..., 0., 0., 0.],\n",
            "        ...,\n",
            "        [0., 0., 0., ..., 0., 0., 0.],\n",
            "        [0., 0., 0., ..., 0., 0., 0.],\n",
            "        [0., 0., 0., ..., 0., 0., 0.]],\n",
            "\n",
            "       [[0., 0., 0., ..., 0., 0., 0.],\n",
            "        [0., 0., 0., ..., 0., 0., 0.],\n",
            "        [0., 0., 0., ..., 0., 0., 0.],\n",
            "        ...,\n",
            "        [0., 0., 0., ..., 0., 0., 0.],\n",
            "        [0., 0., 0., ..., 0., 0., 0.],\n",
            "        [0., 0., 0., ..., 0., 0., 0.]],\n",
            "\n",
            "       [[0., 0., 0., ..., 0., 0., 0.],\n",
            "        [0., 0., 0., ..., 0., 0., 0.],\n",
            "        [0., 0., 0., ..., 0., 0., 0.],\n",
            "        ...,\n",
            "        [0., 0., 0., ..., 0., 0., 0.],\n",
            "        [0., 0., 0., ..., 0., 0., 0.],\n",
            "        [0., 0., 0., ..., 0., 0., 0.]],\n",
            "\n",
            "       ...,\n",
            "\n",
            "       [[0., 0., 0., ..., 0., 0., 0.],\n",
            "        [0., 0., 0., ..., 0., 0., 0.],\n",
            "        [0., 0., 0., ..., 0., 0., 0.],\n",
            "        ...,\n",
            "        [0., 0., 0., ..., 0., 0., 0.],\n",
            "        [0., 0., 0., ..., 0., 0., 0.],\n",
            "        [0., 0., 0., ..., 0., 0., 0.]],\n",
            "\n",
            "       [[0., 0., 0., ..., 0., 0., 0.],\n",
            "        [0., 0., 0., ..., 0., 0., 0.],\n",
            "        [0., 0., 0., ..., 0., 0., 0.],\n",
            "        ...,\n",
            "        [0., 0., 0., ..., 0., 0., 0.],\n",
            "        [0., 0., 0., ..., 0., 0., 0.],\n",
            "        [0., 0., 0., ..., 0., 0., 0.]],\n",
            "\n",
            "       [[0., 0., 0., ..., 0., 0., 0.],\n",
            "        [0., 0., 0., ..., 0., 0., 0.],\n",
            "        [0., 0., 0., ..., 0., 0., 0.],\n",
            "        ...,\n",
            "        [0., 0., 0., ..., 0., 0., 0.],\n",
            "        [0., 0., 0., ..., 0., 0., 0.],\n",
            "        [0., 0., 0., ..., 0., 0., 0.]]])>, <tf.Tensor: shape=(100,), dtype=uint8, numpy=\n",
            "array([4, 9, 2, 1, 1, 9, 6, 2, 6, 7, 8, 3, 7, 4, 9, 4, 0, 3, 1, 3, 1, 9,\n",
            "       1, 3, 6, 1, 1, 0, 2, 4, 8, 3, 0, 2, 7, 9, 5, 5, 3, 8, 7, 9, 6, 3,\n",
            "       8, 4, 4, 9, 7, 3, 8, 7, 1, 1, 9, 6, 6, 2, 2, 4, 0, 4, 7, 4, 9, 8,\n",
            "       6, 8, 8, 2, 0, 2, 9, 7, 5, 3, 1, 0, 9, 3, 9, 6, 1, 9, 2, 1, 1, 3,\n",
            "       5, 3, 3, 9, 7, 2, 2, 2, 7, 8, 4, 3], dtype=uint8)>)\n"
          ]
        }
      ]
    },
    {
      "cell_type": "code",
      "source": [
        "sample = next(iter(train_dataset))\n",
        "img, label = sample[0][0], sample[1][0]\n",
        "plt.imshow(img, 'gray')\n",
        "plt.title(label.numpy())\n",
        "plt.show()"
      ],
      "metadata": {
        "colab": {
          "base_uri": "https://localhost:8080/",
          "height": 280
        },
        "id": "js1VKaZP775a",
        "outputId": "3b4061a1-c434-4166-8972-4b7bf33f50da"
      },
      "execution_count": 4,
      "outputs": [
        {
          "output_type": "display_data",
          "data": {
            "image/png": "[encoded data removed]",
            "text/plain": [
              "<Figure size 432x288 with 1 Axes>"
            ]
          },
          "metadata": {
            "needs_background": "light"
          }
        }
      ]
    },
    {
      "cell_type": "code",
      "source": [
        "class CNN(tf.keras.Model):\n",
        "    def __init__(self):\n",
        "        super().__init__()\n",
        "        self.conv1 = tf.keras.Sequential([\n",
        "            tf.keras.layers.Conv2D(32, 3, 1, 'same', activation='relu'),        # B x 28 x 28 x 32\n",
        "            tf.keras.layers.MaxPool2D(2, 2)                                        # B x 14 x 14 x 32\n",
        "        ])\n",
        "        self.conv2 = tf.keras.Sequential([\n",
        "            tf.keras.layers.Conv2D(64, 3, 1, 'same', activation='relu'),        # B x 14 x 14 x 64 \n",
        "            tf.keras.layers.MaxPool2D(2, 2)                                        # B x 7 x 7 x 64\n",
        "        ])\n",
        "        self.flatten = tf.keras.layers.Flatten()\n",
        "        self.fc1 = tf.keras.layers.Dense(128, activation='relu')\n",
        "        self.fc2 = tf.keras.layers.Dense(10, activation='softmax')\n",
        "\n",
        "    def call(self, input):\n",
        "        x = tf.expand_dims(input, -1)\n",
        "        x = self.conv1(x)\n",
        "        x = self.conv2(x)\n",
        "        x = self.flatten(x)\n",
        "\n",
        "        x = self.fc1(x)\n",
        "        out = self.fc2(x)\n",
        "        return out"
      ],
      "metadata": {
        "id": "Zh3YVZ5p8yFS"
      },
      "execution_count": 5,
      "outputs": []
    },
    {
      "cell_type": "code",
      "source": [
        "input_shape = (None, 28, 28)\n",
        "model = CNN()\n",
        "model.build(input_shape)\n",
        "model.summary()\n",
        "model.compile(\n",
        "    loss='sparse_categorical_crossentropy',\n",
        "    optimizer=tf.optimizers.SGD(learning_rate=1e-3),\n",
        "    metrics=['accuracy']\n",
        ")"
      ],
      "metadata": {
        "colab": {
          "base_uri": "https://localhost:8080/"
        },
        "id": "yNH-qwGV-Pfh",
        "outputId": "cb7b8a73-c3d3-4cf1-e520-fb5cd5ba54a2"
      },
      "execution_count": 6,
      "outputs": [
        {
          "output_type": "stream",
          "name": "stdout",
          "text": [
            "Model: \"cnn\"\n",
            "_________________________________________________________________\n",
            " Layer (type)                Output Shape              Param #   \n",
            "=================================================================\n",
            " sequential (Sequential)     (None, 14, 14, 32)        320       \n",
            "                                                                 \n",
            " sequential_1 (Sequential)   (None, 7, 7, 64)          18496     \n",
            "                                                                 \n",
            " flatten (Flatten)           multiple                  0         \n",
            "                                                                 \n",
            " dense (Dense)               multiple                  401536    \n",
            "                                                                 \n",
            " dense_1 (Dense)             multiple                  1290      \n",
            "                                                                 \n",
            "=================================================================\n",
            "Total params: 421,642\n",
            "Trainable params: 421,642\n",
            "Non-trainable params: 0\n",
            "_________________________________________________________________\n"
          ]
        }
      ]
    },
    {
      "cell_type": "code",
      "source": [
        "hist = model.fit(\n",
        "    train_dataset, epochs=15, validation_data=val_dataset\n",
        ")"
      ],
      "metadata": {
        "colab": {
          "base_uri": "https://localhost:8080/"
        },
        "id": "ZLdWCgW-_PMx",
        "outputId": "6a37d20b-6439-4c8f-8540-1f7b9e9709c0"
      },
      "execution_count": 7,
      "outputs": [
        {
          "output_type": "stream",
          "name": "stdout",
          "text": [
            "Epoch 1/15\n",
            "540/540 [==============================] - 9s 13ms/step - loss: 2.2672 - accuracy: 0.2564 - val_loss: 2.2259 - val_accuracy: 0.3908\n",
            "Epoch 2/15\n",
            "540/540 [==============================] - 7s 14ms/step - loss: 2.1612 - accuracy: 0.4913 - val_loss: 2.0657 - val_accuracy: 0.5648\n",
            "Epoch 3/15\n",
            "540/540 [==============================] - 7s 14ms/step - loss: 1.8641 - accuracy: 0.6318 - val_loss: 1.5564 - val_accuracy: 0.7010\n",
            "Epoch 4/15\n",
            "540/540 [==============================] - 7s 12ms/step - loss: 1.1891 - accuracy: 0.7423 - val_loss: 0.8505 - val_accuracy: 0.7883\n",
            "Epoch 5/15\n",
            "540/540 [==============================] - 6s 12ms/step - loss: 0.7143 - accuracy: 0.8130 - val_loss: 0.5784 - val_accuracy: 0.8415\n",
            "Epoch 6/15\n",
            "540/540 [==============================] - 6s 12ms/step - loss: 0.5344 - accuracy: 0.8494 - val_loss: 0.4545 - val_accuracy: 0.8737\n",
            "Epoch 7/15\n",
            "540/540 [==============================] - 8s 14ms/step - loss: 0.4496 - accuracy: 0.8707 - val_loss: 0.3907 - val_accuracy: 0.8918\n",
            "Epoch 8/15\n",
            "540/540 [==============================] - 7s 14ms/step - loss: 0.3998 - accuracy: 0.8845 - val_loss: 0.3491 - val_accuracy: 0.9025\n",
            "Epoch 9/15\n",
            "540/540 [==============================] - 7s 13ms/step - loss: 0.3658 - accuracy: 0.8932 - val_loss: 0.3275 - val_accuracy: 0.9095\n",
            "Epoch 10/15\n",
            "540/540 [==============================] - 7s 13ms/step - loss: 0.3408 - accuracy: 0.9000 - val_loss: 0.3061 - val_accuracy: 0.9145\n",
            "Epoch 11/15\n",
            "540/540 [==============================] - 7s 12ms/step - loss: 0.3208 - accuracy: 0.9058 - val_loss: 0.2830 - val_accuracy: 0.9215\n",
            "Epoch 12/15\n",
            "540/540 [==============================] - 8s 14ms/step - loss: 0.3041 - accuracy: 0.9111 - val_loss: 0.2735 - val_accuracy: 0.9240\n",
            "Epoch 13/15\n",
            "540/540 [==============================] - 7s 13ms/step - loss: 0.2893 - accuracy: 0.9147 - val_loss: 0.2579 - val_accuracy: 0.9272\n",
            "Epoch 14/15\n",
            "540/540 [==============================] - 7s 13ms/step - loss: 0.2774 - accuracy: 0.9184 - val_loss: 0.2494 - val_accuracy: 0.9295\n",
            "Epoch 15/15\n",
            "540/540 [==============================] - 7s 13ms/step - loss: 0.2660 - accuracy: 0.9214 - val_loss: 0.2392 - val_accuracy: 0.9307\n"
          ]
        }
      ]
    },
    {
      "cell_type": "code",
      "source": [
        "plt.figure(figsize=(10, 5))\n",
        "plt.subplot(121)\n",
        "plt.plot(hist.history['loss'], label='loss')\n",
        "plt.plot(hist.history['val_loss'], label='val_loss')\n",
        "plt.title('Train Loss & Val Loss')\n",
        "plt.xlabel('Epoch')\n",
        "plt.ylabel('Loss')\n",
        "plt.legend(loc='best')\n",
        "\n",
        "plt.subplot(122)\n",
        "plt.plot(hist.history['accuracy'], label='accuracy')\n",
        "plt.plot(hist.history['val_accuracy'], label='val_accuracy')\n",
        "plt.legend(loc='best')\n",
        "plt.title('Train Accuracy & Val Accuracy')\n",
        "plt.xlabel('Epoch')\n",
        "plt.ylabel('Accuracy')\n",
        "plt.show()"
      ],
      "metadata": {
        "colab": {
          "base_uri": "https://localhost:8080/",
          "height": 349
        },
        "id": "ZBqRO5dtHmXJ",
        "outputId": "35419a74-9960-44d1-8c50-07c88d8badda"
      },
      "execution_count": 10,
      "outputs": [
        {
          "output_type": "display_data",
          "data": {
            "image/png": "[encoded data removed]",
            "text/plain": [
              "<Figure size 720x360 with 2 Axes>"
            ]
          },
          "metadata": {
            "needs_background": "light"
          }
        }
      ]
    },
    {
      "cell_type": "code",
      "source": [
        "test_loss, test_acc = model.evaluate(test_dataset)\n",
        "print(f\"Test Loss: {test_loss}, Test Accuracy: {test_acc}\")"
      ],
      "metadata": {
        "colab": {
          "base_uri": "https://localhost:8080/"
        },
        "id": "_Yy-ztUwNXzk",
        "outputId": "1835065d-7077-4f81-894b-5a33f94e6ff9"
      },
      "execution_count": 11,
      "outputs": [
        {
          "output_type": "stream",
          "name": "stdout",
          "text": [
            "100/100 [==============================] - 1s 5ms/step - loss: 0.2460 - accuracy: 0.9298\n",
            "Test Loss: 0.2459527850151062, Test Accuracy: 0.9297999739646912\n"
          ]
        }
      ]
    }
  ]
}